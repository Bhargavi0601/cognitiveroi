{
 "cells": [
  {
   "cell_type": "code",
   "execution_count": 3,
   "metadata": {},
   "outputs": [
    {
     "name": "stdout",
     "output_type": "stream",
     "text": [
      "Collecting keras\n",
      "  Downloading Keras-2.4.3-py2.py3-none-any.whl (36 kB)\n",
      "Requirement already satisfied: pyyaml in c:\\users\\lokes\\anaconda\\lib\\site-packages (from keras) (5.3.1)\n",
      "Requirement already satisfied: scipy>=0.14 in c:\\users\\lokes\\anaconda\\lib\\site-packages (from keras) (1.5.2)\n",
      "Requirement already satisfied: h5py in c:\\users\\lokes\\anaconda\\lib\\site-packages (from keras) (2.10.0)\n",
      "Requirement already satisfied: numpy>=1.9.1 in c:\\users\\lokes\\anaconda\\lib\\site-packages (from keras) (1.19.2)\n",
      "Requirement already satisfied: six in c:\\users\\lokes\\anaconda\\lib\\site-packages (from h5py->keras) (1.15.0)\n",
      "Installing collected packages: keras\n",
      "Successfully installed keras-2.4.3\n",
      "Note: you may need to restart the kernel to use updated packages.\n"
     ]
    }
   ],
   "source": [
    "pip install keras"
   ]
  },
  {
   "cell_type": "code",
   "execution_count": 4,
   "metadata": {},
   "outputs": [
    {
     "name": "stdout",
     "output_type": "stream",
     "text": [
      "Collecting tensorflowNote: you may need to restart the kernel to use updated packages.\n",
      "  Downloading tensorflow-2.4.0-cp38-cp38-win_amd64.whl (370.7 MB)\n",
      "Collecting astunparse~=1.6.3\n",
      "  Downloading astunparse-1.6.3-py2.py3-none-any.whl (12 kB)\n",
      "Requirement already satisfied: six~=1.15.0 in c:\\users\\lokes\\anaconda\\lib\\site-packages (from tensorflow) (1.15.0)\n",
      "Requirement already satisfied: numpy~=1.19.2 in c:\\users\\lokes\\anaconda\\lib\\site-packages (from tensorflow) (1.19.2)\n",
      "Collecting flatbuffers~=1.12.0\n",
      "  Downloading flatbuffers-1.12-py2.py3-none-any.whl (15 kB)\n",
      "Collecting opt-einsum~=3.3.0\n",
      "  Downloading opt_einsum-3.3.0-py3-none-any.whl (65 kB)\n",
      "Collecting gast==0.3.3\n",
      "  Downloading gast-0.3.3-py2.py3-none-any.whl (9.7 kB)\n",
      "Collecting protobuf>=3.9.2\n",
      "  Downloading protobuf-3.14.0-py2.py3-none-any.whl (173 kB)\n",
      "Collecting keras-preprocessing~=1.1.2\n",
      "  Downloading Keras_Preprocessing-1.1.2-py2.py3-none-any.whl (42 kB)\n",
      "Requirement already satisfied: wheel~=0.35 in c:\\users\\lokes\\anaconda\\lib\\site-packages (from tensorflow) (0.35.1)\n",
      "Requirement already satisfied: typing-extensions~=3.7.4 in c:\\users\\lokes\\anaconda\\lib\\site-packages (from tensorflow) (3.7.4.3)\n",
      "Collecting wrapt~=1.12.1\n",
      "  Downloading wrapt-1.12.1.tar.gz (27 kB)\n",
      "Collecting tensorflow-estimator<2.5.0,>=2.4.0rc0\n",
      "  Downloading tensorflow_estimator-2.4.0-py2.py3-none-any.whl (462 kB)\n",
      "Collecting google-pasta~=0.2\n",
      "  Downloading google_pasta-0.2.0-py3-none-any.whl (57 kB)\n",
      "Collecting tensorboard~=2.4\n",
      "  Downloading tensorboard-2.4.0-py3-none-any.whl (10.6 MB)\n",
      "Collecting termcolor~=1.1.0\n",
      "  Downloading termcolor-1.1.0.tar.gz (3.9 kB)\n",
      "Collecting grpcio~=1.32.0\n",
      "  Downloading grpcio-1.32.0-cp38-cp38-win_amd64.whl (2.6 MB)\n",
      "Requirement already satisfied: h5py~=2.10.0 in c:\\users\\lokes\\anaconda\\lib\\site-packages (from tensorflow) (2.10.0)\n",
      "Collecting absl-py~=0.10\n",
      "  Downloading absl_py-0.11.0-py3-none-any.whl (127 kB)\n",
      "Requirement already satisfied: setuptools>=41.0.0 in c:\\users\\lokes\\anaconda\\lib\\site-packages (from tensorboard~=2.4->tensorflow) (50.3.1.post20201107)\n",
      "Collecting google-auth<2,>=1.6.3\n",
      "  Downloading google_auth-1.24.0-py2.py3-none-any.whl (114 kB)\n",
      "Collecting tensorboard-plugin-wit>=1.6.0\n",
      "  Downloading tensorboard_plugin_wit-1.7.0-py3-none-any.whl (779 kB)\n",
      "Collecting google-auth-oauthlib<0.5,>=0.4.1\n",
      "  Downloading google_auth_oauthlib-0.4.2-py2.py3-none-any.whl (18 kB)\n",
      "Requirement already satisfied: werkzeug>=0.11.15 in c:\\users\\lokes\\anaconda\\lib\\site-packages (from tensorboard~=2.4->tensorflow) (1.0.1)\n",
      "Collecting markdown>=2.6.8\n",
      "  Downloading Markdown-3.3.3-py3-none-any.whl (96 kB)\n",
      "Requirement already satisfied: requests<3,>=2.21.0 in c:\\users\\lokes\\anaconda\\lib\\site-packages (from tensorboard~=2.4->tensorflow) (2.24.0)\n",
      "Collecting pyasn1-modules>=0.2.1\n",
      "  Downloading pyasn1_modules-0.2.8-py2.py3-none-any.whl (155 kB)\n",
      "Collecting cachetools<5.0,>=2.0.0\n",
      "  Downloading cachetools-4.2.0-py3-none-any.whl (12 kB)\n",
      "Collecting rsa<5,>=3.1.4; python_version >= \"3.6\"\n",
      "  Downloading rsa-4.6-py3-none-any.whl (47 kB)\n",
      "Collecting requests-oauthlib>=0.7.0\n",
      "  Downloading requests_oauthlib-1.3.0-py2.py3-none-any.whl (23 kB)\n",
      "Requirement already satisfied: certifi>=2017.4.17 in c:\\users\\lokes\\anaconda\\lib\\site-packages (from requests<3,>=2.21.0->tensorboard~=2.4->tensorflow) (2020.6.20)\n",
      "Requirement already satisfied: idna<3,>=2.5 in c:\\users\\lokes\\anaconda\\lib\\site-packages (from requests<3,>=2.21.0->tensorboard~=2.4->tensorflow) (2.10)\n",
      "Requirement already satisfied: chardet<4,>=3.0.2 in c:\\users\\lokes\\anaconda\\lib\\site-packages (from requests<3,>=2.21.0->tensorboard~=2.4->tensorflow) (3.0.4)\n",
      "Requirement already satisfied: urllib3!=1.25.0,!=1.25.1,<1.26,>=1.21.1 in c:\\users\\lokes\\anaconda\\lib\\site-packages (from requests<3,>=2.21.0->tensorboard~=2.4->tensorflow) (1.25.11)\n",
      "Collecting pyasn1<0.5.0,>=0.4.6\n",
      "  Downloading pyasn1-0.4.8-py2.py3-none-any.whl (77 kB)\n",
      "Collecting oauthlib>=3.0.0\n",
      "  Downloading oauthlib-3.1.0-py2.py3-none-any.whl (147 kB)\n",
      "Building wheels for collected packages: wrapt, termcolor\n",
      "  Building wheel for wrapt (setup.py): started\n",
      "  Building wheel for wrapt (setup.py): finished with status 'done'\n",
      "  Created wheel for wrapt: filename=wrapt-1.12.1-py3-none-any.whl size=19558 sha256=11b2bff91673440bcc280fa3b9b9c12653deb2b6aa7f483eb0352c864d5bda14\n",
      "  Stored in directory: c:\\users\\lokes\\appdata\\local\\pip\\cache\\wheels\\5f\\fd\\9e\\b6cf5890494cb8ef0b5eaff72e5d55a70fb56316007d6dfe73\n",
      "  Building wheel for termcolor (setup.py): started\n",
      "  Building wheel for termcolor (setup.py): finished with status 'done'\n",
      "  Created wheel for termcolor: filename=termcolor-1.1.0-py3-none-any.whl size=4835 sha256=9e3a333f65734afea16d4067bea576912bed89aed8eeb868e56b182992483827\n",
      "  Stored in directory: c:\\users\\lokes\\appdata\\local\\pip\\cache\\wheels\\a0\\16\\9c\\5473df82468f958445479c59e784896fa24f4a5fc024b0f501\n",
      "Successfully built wrapt termcolor\n",
      "Installing collected packages: astunparse, flatbuffers, opt-einsum, gast, protobuf, keras-preprocessing, wrapt, tensorflow-estimator, google-pasta, pyasn1, pyasn1-modules, cachetools, rsa, google-auth, tensorboard-plugin-wit, oauthlib, requests-oauthlib, google-auth-oauthlib, grpcio, markdown, absl-py, tensorboard, termcolor, tensorflow\n",
      "  Attempting uninstall: wrapt\n",
      "    Found existing installation: wrapt 1.11.2\n",
      "    Uninstalling wrapt-1.11.2:\n",
      "      Successfully uninstalled wrapt-1.11.2\n",
      "Successfully installed absl-py-0.11.0 astunparse-1.6.3 cachetools-4.2.0 flatbuffers-1.12 gast-0.3.3 google-auth-1.24.0 google-auth-oauthlib-0.4.2 google-pasta-0.2.0 grpcio-1.32.0 keras-preprocessing-1.1.2 markdown-3.3.3 oauthlib-3.1.0 opt-einsum-3.3.0 protobuf-3.14.0 pyasn1-0.4.8 pyasn1-modules-0.2.8 requests-oauthlib-1.3.0 rsa-4.6 tensorboard-2.4.0 tensorboard-plugin-wit-1.7.0 tensorflow-2.4.0 tensorflow-estimator-2.4.0 termcolor-1.1.0 wrapt-1.12.1\n",
      "\n"
     ]
    }
   ],
   "source": [
    "pip install tensorflow"
   ]
  },
  {
   "cell_type": "code",
   "execution_count": 1,
   "metadata": {},
   "outputs": [
    {
     "name": "stdout",
     "output_type": "stream",
     "text": [
      "Requirement already up-to-date: scikit-learn in c:\\users\\lokes\\anaconda\\lib\\site-packages (0.23.2)\n",
      "Requirement already satisfied, skipping upgrade: joblib>=0.11 in c:\\users\\lokes\\anaconda\\lib\\site-packages (from scikit-learn) (0.17.0)\n",
      "Requirement already satisfied, skipping upgrade: scipy>=0.19.1 in c:\\users\\lokes\\anaconda\\lib\\site-packages (from scikit-learn) (1.5.2)\n",
      "Requirement already satisfied, skipping upgrade: threadpoolctl>=2.0.0 in c:\\users\\lokes\\anaconda\\lib\\site-packages (from scikit-learn) (2.1.0)\n",
      "Requirement already satisfied, skipping upgrade: numpy>=1.13.3 in c:\\users\\lokes\\anaconda\\lib\\site-packages (from scikit-learn) (1.19.2)\n",
      "Note: you may need to restart the kernel to use updated packages.\n"
     ]
    }
   ],
   "source": [
    "pip install -U scikit-learn"
   ]
  },
  {
   "cell_type": "code",
   "execution_count": 2,
   "metadata": {},
   "outputs": [],
   "source": [
    "import numpy as np \n",
    "import pandas as pd \n",
    "from matplotlib import pyplot as plt \n",
    "from sklearn.model_selection import train_test_split \n",
    "import keras \n",
    "from keras.models import Sequential \n",
    "from keras.layers import InputLayer \n",
    "from keras.layers import Dense \n",
    "from keras.layers import Dropout \n",
    "from keras.constraints import maxnorm\n",
    "from sklearn.ensemble import RandomForestClassifier, RandomForestRegressor\n",
    "from sklearn.metrics import classification_report, confusion_matrix, accuracy_score\n",
    "\n"
   ]
  },
  {
   "cell_type": "code",
   "execution_count": 31,
   "metadata": {},
   "outputs": [],
   "source": [
    "# read_csv is a pandas function to read csv files and do operations on it later.\n",
    "# head() method is used to return top n (5 by default) rows of a DataFrame."
   ]
  },
  {
   "cell_type": "code",
   "execution_count": 4,
   "metadata": {},
   "outputs": [
    {
     "data": {
      "text/html": [
       "<div>\n",
       "<style scoped>\n",
       "    .dataframe tbody tr th:only-of-type {\n",
       "        vertical-align: middle;\n",
       "    }\n",
       "\n",
       "    .dataframe tbody tr th {\n",
       "        vertical-align: top;\n",
       "    }\n",
       "\n",
       "    .dataframe thead th {\n",
       "        text-align: right;\n",
       "    }\n",
       "</style>\n",
       "<table border=\"1\" class=\"dataframe\">\n",
       "  <thead>\n",
       "    <tr style=\"text-align: right;\">\n",
       "      <th></th>\n",
       "      <th>customerID</th>\n",
       "      <th>gender</th>\n",
       "      <th>SeniorCitizen</th>\n",
       "      <th>Partner</th>\n",
       "      <th>Dependents</th>\n",
       "      <th>tenure</th>\n",
       "      <th>PhoneService</th>\n",
       "      <th>MultipleLines</th>\n",
       "      <th>InternetService</th>\n",
       "      <th>OnlineSecurity</th>\n",
       "      <th>...</th>\n",
       "      <th>DeviceProtection</th>\n",
       "      <th>TechSupport</th>\n",
       "      <th>StreamingTV</th>\n",
       "      <th>StreamingMovies</th>\n",
       "      <th>Contract</th>\n",
       "      <th>PaperlessBilling</th>\n",
       "      <th>PaymentMethod</th>\n",
       "      <th>MonthlyCharges</th>\n",
       "      <th>TotalCharges</th>\n",
       "      <th>Churn</th>\n",
       "    </tr>\n",
       "  </thead>\n",
       "  <tbody>\n",
       "    <tr>\n",
       "      <th>0</th>\n",
       "      <td>7590-VHVEG</td>\n",
       "      <td>Female</td>\n",
       "      <td>0</td>\n",
       "      <td>Yes</td>\n",
       "      <td>No</td>\n",
       "      <td>1</td>\n",
       "      <td>No</td>\n",
       "      <td>No phone service</td>\n",
       "      <td>DSL</td>\n",
       "      <td>No</td>\n",
       "      <td>...</td>\n",
       "      <td>No</td>\n",
       "      <td>No</td>\n",
       "      <td>No</td>\n",
       "      <td>No</td>\n",
       "      <td>Month-to-month</td>\n",
       "      <td>Yes</td>\n",
       "      <td>Electronic check</td>\n",
       "      <td>29.85</td>\n",
       "      <td>29.85</td>\n",
       "      <td>No</td>\n",
       "    </tr>\n",
       "    <tr>\n",
       "      <th>1</th>\n",
       "      <td>5575-GNVDE</td>\n",
       "      <td>Male</td>\n",
       "      <td>0</td>\n",
       "      <td>No</td>\n",
       "      <td>No</td>\n",
       "      <td>34</td>\n",
       "      <td>Yes</td>\n",
       "      <td>No</td>\n",
       "      <td>DSL</td>\n",
       "      <td>Yes</td>\n",
       "      <td>...</td>\n",
       "      <td>Yes</td>\n",
       "      <td>No</td>\n",
       "      <td>No</td>\n",
       "      <td>No</td>\n",
       "      <td>One year</td>\n",
       "      <td>No</td>\n",
       "      <td>Mailed check</td>\n",
       "      <td>56.95</td>\n",
       "      <td>1889.5</td>\n",
       "      <td>No</td>\n",
       "    </tr>\n",
       "    <tr>\n",
       "      <th>2</th>\n",
       "      <td>3668-QPYBK</td>\n",
       "      <td>Male</td>\n",
       "      <td>0</td>\n",
       "      <td>No</td>\n",
       "      <td>No</td>\n",
       "      <td>2</td>\n",
       "      <td>Yes</td>\n",
       "      <td>No</td>\n",
       "      <td>DSL</td>\n",
       "      <td>Yes</td>\n",
       "      <td>...</td>\n",
       "      <td>No</td>\n",
       "      <td>No</td>\n",
       "      <td>No</td>\n",
       "      <td>No</td>\n",
       "      <td>Month-to-month</td>\n",
       "      <td>Yes</td>\n",
       "      <td>Mailed check</td>\n",
       "      <td>53.85</td>\n",
       "      <td>108.15</td>\n",
       "      <td>Yes</td>\n",
       "    </tr>\n",
       "    <tr>\n",
       "      <th>3</th>\n",
       "      <td>7795-CFOCW</td>\n",
       "      <td>Male</td>\n",
       "      <td>0</td>\n",
       "      <td>No</td>\n",
       "      <td>No</td>\n",
       "      <td>45</td>\n",
       "      <td>No</td>\n",
       "      <td>No phone service</td>\n",
       "      <td>DSL</td>\n",
       "      <td>Yes</td>\n",
       "      <td>...</td>\n",
       "      <td>Yes</td>\n",
       "      <td>Yes</td>\n",
       "      <td>No</td>\n",
       "      <td>No</td>\n",
       "      <td>One year</td>\n",
       "      <td>No</td>\n",
       "      <td>Bank transfer (automatic)</td>\n",
       "      <td>42.30</td>\n",
       "      <td>1840.75</td>\n",
       "      <td>No</td>\n",
       "    </tr>\n",
       "    <tr>\n",
       "      <th>4</th>\n",
       "      <td>9237-HQITU</td>\n",
       "      <td>Female</td>\n",
       "      <td>0</td>\n",
       "      <td>No</td>\n",
       "      <td>No</td>\n",
       "      <td>2</td>\n",
       "      <td>Yes</td>\n",
       "      <td>No</td>\n",
       "      <td>Fiber optic</td>\n",
       "      <td>No</td>\n",
       "      <td>...</td>\n",
       "      <td>No</td>\n",
       "      <td>No</td>\n",
       "      <td>No</td>\n",
       "      <td>No</td>\n",
       "      <td>Month-to-month</td>\n",
       "      <td>Yes</td>\n",
       "      <td>Electronic check</td>\n",
       "      <td>70.70</td>\n",
       "      <td>151.65</td>\n",
       "      <td>Yes</td>\n",
       "    </tr>\n",
       "  </tbody>\n",
       "</table>\n",
       "<p>5 rows × 21 columns</p>\n",
       "</div>"
      ],
      "text/plain": [
       "   customerID  gender  SeniorCitizen Partner Dependents  tenure PhoneService  \\\n",
       "0  7590-VHVEG  Female              0     Yes         No       1           No   \n",
       "1  5575-GNVDE    Male              0      No         No      34          Yes   \n",
       "2  3668-QPYBK    Male              0      No         No       2          Yes   \n",
       "3  7795-CFOCW    Male              0      No         No      45           No   \n",
       "4  9237-HQITU  Female              0      No         No       2          Yes   \n",
       "\n",
       "      MultipleLines InternetService OnlineSecurity  ... DeviceProtection  \\\n",
       "0  No phone service             DSL             No  ...               No   \n",
       "1                No             DSL            Yes  ...              Yes   \n",
       "2                No             DSL            Yes  ...               No   \n",
       "3  No phone service             DSL            Yes  ...              Yes   \n",
       "4                No     Fiber optic             No  ...               No   \n",
       "\n",
       "  TechSupport StreamingTV StreamingMovies        Contract PaperlessBilling  \\\n",
       "0          No          No              No  Month-to-month              Yes   \n",
       "1          No          No              No        One year               No   \n",
       "2          No          No              No  Month-to-month              Yes   \n",
       "3         Yes          No              No        One year               No   \n",
       "4          No          No              No  Month-to-month              Yes   \n",
       "\n",
       "               PaymentMethod MonthlyCharges  TotalCharges Churn  \n",
       "0           Electronic check          29.85         29.85    No  \n",
       "1               Mailed check          56.95        1889.5    No  \n",
       "2               Mailed check          53.85        108.15   Yes  \n",
       "3  Bank transfer (automatic)          42.30       1840.75    No  \n",
       "4           Electronic check          70.70        151.65   Yes  \n",
       "\n",
       "[5 rows x 21 columns]"
      ]
     },
     "execution_count": 4,
     "metadata": {},
     "output_type": "execute_result"
    }
   ],
   "source": [
    "data = pd.read_csv('WA_Fn-UseC_-Telco-Customer-Churn.csv')\n",
    "data.head()"
   ]
  },
  {
   "cell_type": "markdown",
   "metadata": {},
   "source": [
    "# Data Preprocessing\n",
    "\n",
    "### I converted the categorical variables into numerical variables (e.g. Yes/No to 1/0).\n",
    "### I ensured that all the values are in numeric format. Also I filled null values with zero."
   ]
  },
  {
   "cell_type": "code",
   "execution_count": 5,
   "metadata": {},
   "outputs": [],
   "source": [
    "data.SeniorCitizen.replace([0, 1], [\"No\", \"Yes\"], inplace= True)\n",
    "data.TotalCharges.replace([\" \"], [\"0\"], inplace= True)\n",
    "data.TotalCharges = data.TotalCharges.astype(float)\n",
    "data.drop(\"customerID\", axis= 1, inplace= True) \n",
    "data.Churn.replace([\"Yes\", \"No\"], [1, 0], inplace= True)"
   ]
  },
  {
   "cell_type": "code",
   "execution_count": 29,
   "metadata": {},
   "outputs": [],
   "source": [
    "# pd.get_dummies creates a new dataframe which consists of zeros and ones. \n",
    "# The dataframe will have a one depending on the truth of the categorical variables in this case.\n"
   ]
  },
  {
   "cell_type": "code",
   "execution_count": 6,
   "metadata": {},
   "outputs": [],
   "source": [
    "data = pd.get_dummies(data)"
   ]
  },
  {
   "cell_type": "code",
   "execution_count": 28,
   "metadata": {},
   "outputs": [],
   "source": [
    "# Next I split the dataset into X and Y.\n",
    "# X contains all the features that are used for making the predictions.\n",
    "# Y contains the outcomes that is whether or not the customer churned"
   ]
  },
  {
   "cell_type": "code",
   "execution_count": 7,
   "metadata": {},
   "outputs": [],
   "source": [
    "X = data.drop(\"Churn\", axis= 1)\n",
    "y = data.Churn"
   ]
  },
  {
   "cell_type": "code",
   "execution_count": 24,
   "metadata": {},
   "outputs": [],
   "source": [
    "# I used two dense layers with 64 neurons and 8 neurons with relu as the activation function. \n",
    "# input_dim argument denotes the number of features in the dataset or \n",
    "# in other words the number of columns present in the dataset. In between, I used 20% dropouts to reduce overfitting. \n",
    "# The dropout layer ensures that we remove a set percentage of the data each time we iterate through the neural network. \n",
    "# kernel_constraint is used for scaling of the weights present in the neural network. \n",
    "# The last layer is also a dense layer with 1 neuron and sigmoid as the activation function.\n"
   ]
  },
  {
   "cell_type": "code",
   "execution_count": 8,
   "metadata": {},
   "outputs": [],
   "source": [
    "model = Sequential()\n",
    "model.add(Dense(64, input_dim=46, activation='relu', kernel_constraint=maxnorm(3)))\n",
    "model.add(Dropout(rate=0.2))\n",
    "model.add(Dense(8, activation='relu', kernel_constraint=maxnorm(3)))\n",
    "model.add(Dropout(rate=0.2))\n",
    "model.add(Dense(1, activation='sigmoid'))"
   ]
  },
  {
   "cell_type": "code",
   "execution_count": 19,
   "metadata": {},
   "outputs": [],
   "source": [
    "# Next I compiled the model using binary_crossentropy as the loss function, \n",
    "# adam as the optimizer and accuracy metric to track during training."
   ]
  },
  {
   "cell_type": "code",
   "execution_count": 9,
   "metadata": {},
   "outputs": [],
   "source": [
    "model.compile(loss = \"binary_crossentropy\", optimizer = 'adam', metrics=['accuracy'])"
   ]
  },
  {
   "cell_type": "code",
   "execution_count": 26,
   "metadata": {},
   "outputs": [],
   "source": [
    "# Next I used train_test_split to split the data into training and testing sets with 20% of the data given to the test set. \n",
    "# The training set is used to train the model, \n",
    "# while the test set is only used to evaluate the model’s performance."
   ]
  },
  {
   "cell_type": "code",
   "execution_count": 11,
   "metadata": {},
   "outputs": [],
   "source": [
    "X_train, X_test, y_train, y_test = train_test_split(X, y, test_size= 0.2, random_state= 42)"
   ]
  },
  {
   "cell_type": "code",
   "execution_count": 17,
   "metadata": {},
   "outputs": [],
   "source": [
    "# I trained the model for 50 epochs with a batch size value of 8. \n",
    "# One epoch is when an entire dataset is passed forward and backward through the neural network only once.\n",
    "# Batch size is the total number of training examples present in a single batch."
   ]
  },
  {
   "cell_type": "code",
   "execution_count": 12,
   "metadata": {
    "scrolled": true
   },
   "outputs": [
    {
     "name": "stdout",
     "output_type": "stream",
     "text": [
      "Epoch 1/50\n",
      "705/705 [==============================] - 4s 3ms/step - loss: 30.4415 - accuracy: 0.6519 - val_loss: 0.6273 - val_accuracy: 0.7353\n",
      "Epoch 2/50\n",
      "705/705 [==============================] - 2s 3ms/step - loss: 0.8351 - accuracy: 0.7309 - val_loss: 0.5886 - val_accuracy: 0.7353\n",
      "Epoch 3/50\n",
      "705/705 [==============================] - 2s 3ms/step - loss: 0.6045 - accuracy: 0.7517 - val_loss: 0.5524 - val_accuracy: 0.7651\n",
      "Epoch 4/50\n",
      "705/705 [==============================] - 2s 3ms/step - loss: 0.5756 - accuracy: 0.7578 - val_loss: 0.5403 - val_accuracy: 0.7679\n",
      "Epoch 5/50\n",
      "705/705 [==============================] - 2s 3ms/step - loss: 0.5839 - accuracy: 0.7559 - val_loss: 0.5372 - val_accuracy: 0.7686\n",
      "Epoch 6/50\n",
      "705/705 [==============================] - 2s 3ms/step - loss: 0.5657 - accuracy: 0.7485 - val_loss: 0.5383 - val_accuracy: 0.7665\n",
      "Epoch 7/50\n",
      "705/705 [==============================] - 2s 2ms/step - loss: 0.5791 - accuracy: 0.7517 - val_loss: 0.5383 - val_accuracy: 0.7665\n",
      "Epoch 8/50\n",
      "705/705 [==============================] - 2s 3ms/step - loss: 0.5592 - accuracy: 0.7630 - val_loss: 0.5355 - val_accuracy: 0.7686\n",
      "Epoch 9/50\n",
      "705/705 [==============================] - 2s 3ms/step - loss: 0.5694 - accuracy: 0.7509 - val_loss: 0.5360 - val_accuracy: 0.7679\n",
      "Epoch 10/50\n",
      "705/705 [==============================] - 2s 3ms/step - loss: 0.5479 - accuracy: 0.7584 - val_loss: 0.5364 - val_accuracy: 0.7658\n",
      "Epoch 11/50\n",
      "705/705 [==============================] - 2s 2ms/step - loss: 0.5472 - accuracy: 0.7618 - val_loss: 0.5334 - val_accuracy: 0.7672\n",
      "Epoch 12/50\n",
      "705/705 [==============================] - 2s 2ms/step - loss: 0.5502 - accuracy: 0.7599 - val_loss: 0.5256 - val_accuracy: 0.7764\n",
      "Epoch 13/50\n",
      "705/705 [==============================] - 2s 2ms/step - loss: 0.5560 - accuracy: 0.7529 - val_loss: 0.5235 - val_accuracy: 0.7750\n",
      "Epoch 14/50\n",
      "705/705 [==============================] - 2s 3ms/step - loss: 0.5388 - accuracy: 0.7666 - val_loss: 0.5207 - val_accuracy: 0.7750\n",
      "Epoch 15/50\n",
      "705/705 [==============================] - 2s 3ms/step - loss: 0.5422 - accuracy: 0.7629 - val_loss: 0.5089 - val_accuracy: 0.7821\n",
      "Epoch 16/50\n",
      "705/705 [==============================] - 2s 3ms/step - loss: 0.5275 - accuracy: 0.7728 - val_loss: 0.5041 - val_accuracy: 0.7835\n",
      "Epoch 17/50\n",
      "705/705 [==============================] - 2s 3ms/step - loss: 0.5202 - accuracy: 0.7739 - val_loss: 0.5081 - val_accuracy: 0.7807\n",
      "Epoch 18/50\n",
      "705/705 [==============================] - 2s 3ms/step - loss: 0.5274 - accuracy: 0.7648 - val_loss: 0.4972 - val_accuracy: 0.7878\n",
      "Epoch 19/50\n",
      "705/705 [==============================] - 2s 3ms/step - loss: 0.5496 - accuracy: 0.7619 - val_loss: 0.4961 - val_accuracy: 0.7885\n",
      "Epoch 20/50\n",
      "705/705 [==============================] - 2s 3ms/step - loss: 0.5229 - accuracy: 0.7702 - val_loss: 0.4912 - val_accuracy: 0.7970\n",
      "Epoch 21/50\n",
      "705/705 [==============================] - 2s 3ms/step - loss: 0.5277 - accuracy: 0.7618 - val_loss: 0.4839 - val_accuracy: 0.7991\n",
      "Epoch 22/50\n",
      "705/705 [==============================] - 2s 3ms/step - loss: 0.5063 - accuracy: 0.7794 - val_loss: 0.4903 - val_accuracy: 0.7885\n",
      "Epoch 23/50\n",
      "705/705 [==============================] - 2s 3ms/step - loss: 0.5014 - accuracy: 0.7846 - val_loss: 0.4875 - val_accuracy: 0.7828\n",
      "Epoch 24/50\n",
      "705/705 [==============================] - 2s 3ms/step - loss: 0.5273 - accuracy: 0.7626 - val_loss: 0.4846 - val_accuracy: 0.7800\n",
      "Epoch 25/50\n",
      "705/705 [==============================] - 2s 3ms/step - loss: 0.4902 - accuracy: 0.7910 - val_loss: 0.4633 - val_accuracy: 0.7878\n",
      "Epoch 26/50\n",
      "705/705 [==============================] - 2s 3ms/step - loss: 0.4930 - accuracy: 0.7835 - val_loss: 0.4715 - val_accuracy: 0.7928\n",
      "Epoch 27/50\n",
      "705/705 [==============================] - 2s 3ms/step - loss: 0.5049 - accuracy: 0.7718 - val_loss: 0.4623 - val_accuracy: 0.7935\n",
      "Epoch 28/50\n",
      "705/705 [==============================] - 2s 3ms/step - loss: 0.4987 - accuracy: 0.7811 - val_loss: 0.4606 - val_accuracy: 0.7942\n",
      "Epoch 29/50\n",
      "705/705 [==============================] - 2s 3ms/step - loss: 0.4875 - accuracy: 0.7865 - val_loss: 0.4810 - val_accuracy: 0.7935\n",
      "Epoch 30/50\n",
      "705/705 [==============================] - 2s 3ms/step - loss: 0.5016 - accuracy: 0.7756 - val_loss: 0.4534 - val_accuracy: 0.7977\n",
      "Epoch 31/50\n",
      "705/705 [==============================] - 2s 3ms/step - loss: 0.4962 - accuracy: 0.7785 - val_loss: 0.4637 - val_accuracy: 0.7970\n",
      "Epoch 32/50\n",
      "705/705 [==============================] - 2s 3ms/step - loss: 0.4887 - accuracy: 0.7840 - val_loss: 0.4415 - val_accuracy: 0.8098\n",
      "Epoch 33/50\n",
      "705/705 [==============================] - 2s 3ms/step - loss: 0.5202 - accuracy: 0.7579 - val_loss: 0.4705 - val_accuracy: 0.7864\n",
      "Epoch 34/50\n",
      "705/705 [==============================] - 2s 3ms/step - loss: 0.5095 - accuracy: 0.7654 - val_loss: 0.4521 - val_accuracy: 0.7984\n",
      "Epoch 35/50\n",
      "705/705 [==============================] - 2s 3ms/step - loss: 0.5311 - accuracy: 0.7537 - val_loss: 0.4583 - val_accuracy: 0.7963\n",
      "Epoch 36/50\n",
      "705/705 [==============================] - 2s 3ms/step - loss: 0.4998 - accuracy: 0.7698 - val_loss: 0.4716 - val_accuracy: 0.7878\n",
      "Epoch 37/50\n",
      "705/705 [==============================] - 2s 3ms/step - loss: 0.4917 - accuracy: 0.7778 - val_loss: 0.4635 - val_accuracy: 0.7906\n",
      "Epoch 38/50\n",
      "705/705 [==============================] - 2s 3ms/step - loss: 0.4949 - accuracy: 0.7744 - val_loss: 0.4578 - val_accuracy: 0.7956\n",
      "Epoch 39/50\n",
      "705/705 [==============================] - 2s 3ms/step - loss: 0.4904 - accuracy: 0.7734 - val_loss: 0.4516 - val_accuracy: 0.7956\n",
      "Epoch 40/50\n",
      "705/705 [==============================] - 2s 2ms/step - loss: 0.5309 - accuracy: 0.7703 - val_loss: 0.4412 - val_accuracy: 0.7963\n",
      "Epoch 41/50\n",
      "705/705 [==============================] - 2s 3ms/step - loss: 0.4844 - accuracy: 0.7727 - val_loss: 0.4503 - val_accuracy: 0.7949\n",
      "Epoch 42/50\n",
      "705/705 [==============================] - 2s 3ms/step - loss: 0.4927 - accuracy: 0.7761 - val_loss: 0.4472 - val_accuracy: 0.7963\n",
      "Epoch 43/50\n",
      "705/705 [==============================] - 2s 3ms/step - loss: 0.4864 - accuracy: 0.7803 - val_loss: 0.4433 - val_accuracy: 0.7928\n",
      "Epoch 44/50\n",
      "705/705 [==============================] - 2s 3ms/step - loss: 0.5076 - accuracy: 0.7646 - val_loss: 0.4557 - val_accuracy: 0.7892\n",
      "Epoch 45/50\n",
      "705/705 [==============================] - 2s 2ms/step - loss: 0.4897 - accuracy: 0.7696 - val_loss: 0.4520 - val_accuracy: 0.7942\n",
      "Epoch 46/50\n",
      "705/705 [==============================] - 2s 3ms/step - loss: 0.4979 - accuracy: 0.7690 - val_loss: 0.4365 - val_accuracy: 0.7956\n",
      "Epoch 47/50\n",
      "705/705 [==============================] - 2s 2ms/step - loss: 0.4948 - accuracy: 0.7700 - val_loss: 0.4142 - val_accuracy: 0.7942\n",
      "Epoch 48/50\n",
      "705/705 [==============================] - 2s 2ms/step - loss: 0.4732 - accuracy: 0.7816 - val_loss: 0.4335 - val_accuracy: 0.7942\n",
      "Epoch 49/50\n",
      "705/705 [==============================] - 2s 3ms/step - loss: 0.4825 - accuracy: 0.7708 - val_loss: 0.4218 - val_accuracy: 0.8006\n",
      "Epoch 50/50\n",
      "705/705 [==============================] - 2s 2ms/step - loss: 0.4799 - accuracy: 0.7823 - val_loss: 0.4279 - val_accuracy: 0.7956\n"
     ]
    }
   ],
   "source": [
    "history = model.fit(X_train, y_train, validation_data=(X_test, y_test), epochs=50, batch_size=8)"
   ]
  },
  {
   "cell_type": "code",
   "execution_count": 16,
   "metadata": {},
   "outputs": [],
   "source": [
    "# Now let’s see how accuracy varies as a function of epochs."
   ]
  },
  {
   "cell_type": "code",
   "execution_count": 13,
   "metadata": {},
   "outputs": [
    {
     "data": {
      "image/png": "[encoded data removed]",
      "text/plain": [
       "<Figure size 432x288 with 1 Axes>"
      ]
     },
     "metadata": {
      "needs_background": "light"
     },
     "output_type": "display_data"
    }
   ],
   "source": [
    "plt.plot(history.history['accuracy']) \n",
    "plt.plot(history.history['val_accuracy']) \n",
    "plt.title('model accuracy') \n",
    "plt.ylabel('accuracy')\n",
    "plt.xlabel('epoch') \n",
    "plt.legend(['train', 'test'], loc='upper left') \n",
    "plt.show()"
   ]
  },
  {
   "cell_type": "code",
   "execution_count": 15,
   "metadata": {},
   "outputs": [],
   "source": [
    "# The test accuracy of the neural network after 50 epochs is 78%."
   ]
  },
  {
   "cell_type": "code",
   "execution_count": null,
   "metadata": {},
   "outputs": [],
   "source": []
  }
 ],
 "metadata": {
  "kernelspec": {
   "display_name": "Python 3",
   "language": "python",
   "name": "python3"
  },
  "language_info": {
   "codemirror_mode": {
    "name": "ipython",
    "version": 3
   },
   "file_extension": ".py",
   "mimetype": "text/x-python",
   "name": "python",
   "nbconvert_exporter": "python",
   "pygments_lexer": "ipython3",
   "version": "3.8.3"
  }
 },
 "nbformat": 4,
 "nbformat_minor": 4
}
